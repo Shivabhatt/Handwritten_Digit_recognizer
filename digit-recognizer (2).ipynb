{
 "cells": [
  {
   "cell_type": "code",
   "execution_count": 1,
   "metadata": {
    "_cell_guid": "b1076dfc-b9ad-4769-8c92-a6c4dae69d19",
    "_uuid": "8f2839f25d086af736a60e9eeb907d3b93b6e0e5",
    "execution": {
     "iopub.execute_input": "2020-08-22T20:32:50.856899Z",
     "iopub.status.busy": "2020-08-22T20:32:50.855902Z",
     "iopub.status.idle": "2020-08-22T20:32:50.860269Z",
     "shell.execute_reply": "2020-08-22T20:32:50.860746Z"
    },
    "papermill": {
     "duration": 0.019762,
     "end_time": "2020-08-22T20:32:50.860897",
     "exception": false,
     "start_time": "2020-08-22T20:32:50.841135",
     "status": "completed"
    },
    "tags": []
   },
   "outputs": [
    {
     "name": "stdout",
     "output_type": "stream",
     "text": [
      "/kaggle/input/digit-recognizer/sample_submission.csv\n",
      "/kaggle/input/digit-recognizer/test.csv\n",
      "/kaggle/input/digit-recognizer/train.csv\n"
     ]
    }
   ],
   "source": [
    "# This Python 3 environment comes with many helpful analytics libraries installed\n",
    "# It is defined by the kaggle/python Docker image: https://github.com/kaggle/docker-python\n",
    "# For example, here's several helpful packages to load\n",
    "\n",
    "import numpy as np # linear algebra\n",
    "import pandas as pd # data processing, CSV file I/O (e.g. pd.read_csv)\n",
    "\n",
    "# Input data files are available in the read-only \"../input/\" directory\n",
    "# For example, running this (by clicking run or pressing Shift+Enter) will list all files under the input directory\n",
    "\n",
    "import os\n",
    "for dirname, _, filenames in os.walk('/kaggle/input'):\n",
    "    for filename in filenames:\n",
    "        print(os.path.join(dirname, filename))\n",
    "\n",
    "# You can write up to 5GB to the current directory (/kaggle/working/) that gets preserved as output when you create a version using \"Save & Run All\" \n",
    "# You can also write temporary files to /kaggle/temp/, but they won't be saved outside of the current session"
   ]
  },
  {
   "cell_type": "markdown",
   "execution_count": null,
   "metadata": {
    "papermill": {
     "duration": 0.007149,
     "end_time": "2020-08-22T20:32:50.876439",
     "exception": false,
     "start_time": "2020-08-22T20:32:50.869290",
     "status": "completed"
    },
    "tags": []
   },
   "source": [
    "**Importing libraries**"
   ]
  },
  {
   "cell_type": "code",
   "execution_count": 2,
   "metadata": {
    "_cell_guid": "79c7e3d0-c299-4dcb-8224-4455121ee9b0",
    "_uuid": "d629ff2d2480ee46fbb7e2d37f6b5fab8052498a",
    "execution": {
     "iopub.execute_input": "2020-08-22T20:32:50.905689Z",
     "iopub.status.busy": "2020-08-22T20:32:50.904938Z",
     "iopub.status.idle": "2020-08-22T20:32:57.788123Z",
     "shell.execute_reply": "2020-08-22T20:32:57.787024Z"
    },
    "papermill": {
     "duration": 6.904364,
     "end_time": "2020-08-22T20:32:57.788252",
     "exception": false,
     "start_time": "2020-08-22T20:32:50.883888",
     "status": "completed"
    },
    "tags": []
   },
   "outputs": [],
   "source": [
    "import pandas as pd\n",
    "import matplotlib.pyplot as plt\n",
    "%matplotlib inline\n",
    "import seaborn as sns\n",
    "from sklearn.model_selection import train_test_split\n",
    "from sklearn.metrics import classification_report\n",
    "import tensorflow as tf\n",
    "from tensorflow.keras.preprocessing.image import ImageDataGenerator\n",
    "from tensorflow.keras.callbacks import ReduceLROnPlateau\n",
    "from tensorflow.keras.optimizers import Adam, RMSprop\n",
    "from tensorflow.keras.models import Sequential\n",
    "from tensorflow.keras.utils import to_categorical\n",
    "from tensorflow.keras.layers import Conv2D, Dense, Dropout, Flatten, MaxPool2D,BatchNormalization"
   ]
  },
  {
   "cell_type": "code",
   "execution_count": 3,
   "metadata": {
    "execution": {
     "iopub.execute_input": "2020-08-22T20:32:57.811338Z",
     "iopub.status.busy": "2020-08-22T20:32:57.810706Z",
     "iopub.status.idle": "2020-08-22T20:33:02.909734Z",
     "shell.execute_reply": "2020-08-22T20:33:02.909019Z"
    },
    "papermill": {
     "duration": 5.11278,
     "end_time": "2020-08-22T20:33:02.909855",
     "exception": false,
     "start_time": "2020-08-22T20:32:57.797075",
     "status": "completed"
    },
    "tags": []
   },
   "outputs": [],
   "source": [
    "train_df = pd.read_csv('../input/digit-recognizer/train.csv')\n",
    "test_df = pd.read_csv('../input/digit-recognizer/test.csv')"
   ]
  },
  {
   "cell_type": "code",
   "execution_count": 4,
   "metadata": {
    "execution": {
     "iopub.execute_input": "2020-08-22T20:33:02.943964Z",
     "iopub.status.busy": "2020-08-22T20:33:02.940439Z",
     "iopub.status.idle": "2020-08-22T20:33:02.957193Z",
     "shell.execute_reply": "2020-08-22T20:33:02.957663Z"
    },
    "papermill": {
     "duration": 0.039094,
     "end_time": "2020-08-22T20:33:02.957795",
     "exception": false,
     "start_time": "2020-08-22T20:33:02.918701",
     "status": "completed"
    },
    "tags": []
   },
   "outputs": [
    {
     "data": {
      "text/html": [
       "<div>\n",
       "<style scoped>\n",
       "    .dataframe tbody tr th:only-of-type {\n",
       "        vertical-align: middle;\n",
       "    }\n",
       "\n",
       "    .dataframe tbody tr th {\n",
       "        vertical-align: top;\n",
       "    }\n",
       "\n",
       "    .dataframe thead th {\n",
       "        text-align: right;\n",
       "    }\n",
       "</style>\n",
       "<table border=\"1\" class=\"dataframe\">\n",
       "  <thead>\n",
       "    <tr style=\"text-align: right;\">\n",
       "      <th></th>\n",
       "      <th>label</th>\n",
       "      <th>pixel0</th>\n",
       "      <th>pixel1</th>\n",
       "      <th>pixel2</th>\n",
       "      <th>pixel3</th>\n",
       "      <th>pixel4</th>\n",
       "      <th>pixel5</th>\n",
       "      <th>pixel6</th>\n",
       "      <th>pixel7</th>\n",
       "      <th>pixel8</th>\n",
       "      <th>...</th>\n",
       "      <th>pixel774</th>\n",
       "      <th>pixel775</th>\n",
       "      <th>pixel776</th>\n",
       "      <th>pixel777</th>\n",
       "      <th>pixel778</th>\n",
       "      <th>pixel779</th>\n",
       "      <th>pixel780</th>\n",
       "      <th>pixel781</th>\n",
       "      <th>pixel782</th>\n",
       "      <th>pixel783</th>\n",
       "    </tr>\n",
       "  </thead>\n",
       "  <tbody>\n",
       "    <tr>\n",
       "      <th>0</th>\n",
       "      <td>1</td>\n",
       "      <td>0</td>\n",
       "      <td>0</td>\n",
       "      <td>0</td>\n",
       "      <td>0</td>\n",
       "      <td>0</td>\n",
       "      <td>0</td>\n",
       "      <td>0</td>\n",
       "      <td>0</td>\n",
       "      <td>0</td>\n",
       "      <td>...</td>\n",
       "      <td>0</td>\n",
       "      <td>0</td>\n",
       "      <td>0</td>\n",
       "      <td>0</td>\n",
       "      <td>0</td>\n",
       "      <td>0</td>\n",
       "      <td>0</td>\n",
       "      <td>0</td>\n",
       "      <td>0</td>\n",
       "      <td>0</td>\n",
       "    </tr>\n",
       "    <tr>\n",
       "      <th>1</th>\n",
       "      <td>0</td>\n",
       "      <td>0</td>\n",
       "      <td>0</td>\n",
       "      <td>0</td>\n",
       "      <td>0</td>\n",
       "      <td>0</td>\n",
       "      <td>0</td>\n",
       "      <td>0</td>\n",
       "      <td>0</td>\n",
       "      <td>0</td>\n",
       "      <td>...</td>\n",
       "      <td>0</td>\n",
       "      <td>0</td>\n",
       "      <td>0</td>\n",
       "      <td>0</td>\n",
       "      <td>0</td>\n",
       "      <td>0</td>\n",
       "      <td>0</td>\n",
       "      <td>0</td>\n",
       "      <td>0</td>\n",
       "      <td>0</td>\n",
       "    </tr>\n",
       "    <tr>\n",
       "      <th>2</th>\n",
       "      <td>1</td>\n",
       "      <td>0</td>\n",
       "      <td>0</td>\n",
       "      <td>0</td>\n",
       "      <td>0</td>\n",
       "      <td>0</td>\n",
       "      <td>0</td>\n",
       "      <td>0</td>\n",
       "      <td>0</td>\n",
       "      <td>0</td>\n",
       "      <td>...</td>\n",
       "      <td>0</td>\n",
       "      <td>0</td>\n",
       "      <td>0</td>\n",
       "      <td>0</td>\n",
       "      <td>0</td>\n",
       "      <td>0</td>\n",
       "      <td>0</td>\n",
       "      <td>0</td>\n",
       "      <td>0</td>\n",
       "      <td>0</td>\n",
       "    </tr>\n",
       "    <tr>\n",
       "      <th>3</th>\n",
       "      <td>4</td>\n",
       "      <td>0</td>\n",
       "      <td>0</td>\n",
       "      <td>0</td>\n",
       "      <td>0</td>\n",
       "      <td>0</td>\n",
       "      <td>0</td>\n",
       "      <td>0</td>\n",
       "      <td>0</td>\n",
       "      <td>0</td>\n",
       "      <td>...</td>\n",
       "      <td>0</td>\n",
       "      <td>0</td>\n",
       "      <td>0</td>\n",
       "      <td>0</td>\n",
       "      <td>0</td>\n",
       "      <td>0</td>\n",
       "      <td>0</td>\n",
       "      <td>0</td>\n",
       "      <td>0</td>\n",
       "      <td>0</td>\n",
       "    </tr>\n",
       "    <tr>\n",
       "      <th>4</th>\n",
       "      <td>0</td>\n",
       "      <td>0</td>\n",
       "      <td>0</td>\n",
       "      <td>0</td>\n",
       "      <td>0</td>\n",
       "      <td>0</td>\n",
       "      <td>0</td>\n",
       "      <td>0</td>\n",
       "      <td>0</td>\n",
       "      <td>0</td>\n",
       "      <td>...</td>\n",
       "      <td>0</td>\n",
       "      <td>0</td>\n",
       "      <td>0</td>\n",
       "      <td>0</td>\n",
       "      <td>0</td>\n",
       "      <td>0</td>\n",
       "      <td>0</td>\n",
       "      <td>0</td>\n",
       "      <td>0</td>\n",
       "      <td>0</td>\n",
       "    </tr>\n",
       "  </tbody>\n",
       "</table>\n",
       "<p>5 rows × 785 columns</p>\n",
       "</div>"
      ],
      "text/plain": [
       "   label  pixel0  pixel1  pixel2  pixel3  pixel4  pixel5  pixel6  pixel7  \\\n",
       "0      1       0       0       0       0       0       0       0       0   \n",
       "1      0       0       0       0       0       0       0       0       0   \n",
       "2      1       0       0       0       0       0       0       0       0   \n",
       "3      4       0       0       0       0       0       0       0       0   \n",
       "4      0       0       0       0       0       0       0       0       0   \n",
       "\n",
       "   pixel8  ...  pixel774  pixel775  pixel776  pixel777  pixel778  pixel779  \\\n",
       "0       0  ...         0         0         0         0         0         0   \n",
       "1       0  ...         0         0         0         0         0         0   \n",
       "2       0  ...         0         0         0         0         0         0   \n",
       "3       0  ...         0         0         0         0         0         0   \n",
       "4       0  ...         0         0         0         0         0         0   \n",
       "\n",
       "   pixel780  pixel781  pixel782  pixel783  \n",
       "0         0         0         0         0  \n",
       "1         0         0         0         0  \n",
       "2         0         0         0         0  \n",
       "3         0         0         0         0  \n",
       "4         0         0         0         0  \n",
       "\n",
       "[5 rows x 785 columns]"
      ]
     },
     "execution_count": 4,
     "metadata": {},
     "output_type": "execute_result"
    }
   ],
   "source": [
    "train_df.head(5)"
   ]
  },
  {
   "cell_type": "code",
   "execution_count": 5,
   "metadata": {
    "execution": {
     "iopub.execute_input": "2020-08-22T20:33:02.993518Z",
     "iopub.status.busy": "2020-08-22T20:33:02.992766Z",
     "iopub.status.idle": "2020-08-22T20:33:02.996652Z",
     "shell.execute_reply": "2020-08-22T20:33:02.997125Z"
    },
    "papermill": {
     "duration": 0.031252,
     "end_time": "2020-08-22T20:33:02.997263",
     "exception": false,
     "start_time": "2020-08-22T20:33:02.966011",
     "status": "completed"
    },
    "tags": []
   },
   "outputs": [
    {
     "data": {
      "text/html": [
       "<div>\n",
       "<style scoped>\n",
       "    .dataframe tbody tr th:only-of-type {\n",
       "        vertical-align: middle;\n",
       "    }\n",
       "\n",
       "    .dataframe tbody tr th {\n",
       "        vertical-align: top;\n",
       "    }\n",
       "\n",
       "    .dataframe thead th {\n",
       "        text-align: right;\n",
       "    }\n",
       "</style>\n",
       "<table border=\"1\" class=\"dataframe\">\n",
       "  <thead>\n",
       "    <tr style=\"text-align: right;\">\n",
       "      <th></th>\n",
       "      <th>pixel0</th>\n",
       "      <th>pixel1</th>\n",
       "      <th>pixel2</th>\n",
       "      <th>pixel3</th>\n",
       "      <th>pixel4</th>\n",
       "      <th>pixel5</th>\n",
       "      <th>pixel6</th>\n",
       "      <th>pixel7</th>\n",
       "      <th>pixel8</th>\n",
       "      <th>pixel9</th>\n",
       "      <th>...</th>\n",
       "      <th>pixel774</th>\n",
       "      <th>pixel775</th>\n",
       "      <th>pixel776</th>\n",
       "      <th>pixel777</th>\n",
       "      <th>pixel778</th>\n",
       "      <th>pixel779</th>\n",
       "      <th>pixel780</th>\n",
       "      <th>pixel781</th>\n",
       "      <th>pixel782</th>\n",
       "      <th>pixel783</th>\n",
       "    </tr>\n",
       "  </thead>\n",
       "  <tbody>\n",
       "    <tr>\n",
       "      <th>0</th>\n",
       "      <td>0</td>\n",
       "      <td>0</td>\n",
       "      <td>0</td>\n",
       "      <td>0</td>\n",
       "      <td>0</td>\n",
       "      <td>0</td>\n",
       "      <td>0</td>\n",
       "      <td>0</td>\n",
       "      <td>0</td>\n",
       "      <td>0</td>\n",
       "      <td>...</td>\n",
       "      <td>0</td>\n",
       "      <td>0</td>\n",
       "      <td>0</td>\n",
       "      <td>0</td>\n",
       "      <td>0</td>\n",
       "      <td>0</td>\n",
       "      <td>0</td>\n",
       "      <td>0</td>\n",
       "      <td>0</td>\n",
       "      <td>0</td>\n",
       "    </tr>\n",
       "    <tr>\n",
       "      <th>1</th>\n",
       "      <td>0</td>\n",
       "      <td>0</td>\n",
       "      <td>0</td>\n",
       "      <td>0</td>\n",
       "      <td>0</td>\n",
       "      <td>0</td>\n",
       "      <td>0</td>\n",
       "      <td>0</td>\n",
       "      <td>0</td>\n",
       "      <td>0</td>\n",
       "      <td>...</td>\n",
       "      <td>0</td>\n",
       "      <td>0</td>\n",
       "      <td>0</td>\n",
       "      <td>0</td>\n",
       "      <td>0</td>\n",
       "      <td>0</td>\n",
       "      <td>0</td>\n",
       "      <td>0</td>\n",
       "      <td>0</td>\n",
       "      <td>0</td>\n",
       "    </tr>\n",
       "    <tr>\n",
       "      <th>2</th>\n",
       "      <td>0</td>\n",
       "      <td>0</td>\n",
       "      <td>0</td>\n",
       "      <td>0</td>\n",
       "      <td>0</td>\n",
       "      <td>0</td>\n",
       "      <td>0</td>\n",
       "      <td>0</td>\n",
       "      <td>0</td>\n",
       "      <td>0</td>\n",
       "      <td>...</td>\n",
       "      <td>0</td>\n",
       "      <td>0</td>\n",
       "      <td>0</td>\n",
       "      <td>0</td>\n",
       "      <td>0</td>\n",
       "      <td>0</td>\n",
       "      <td>0</td>\n",
       "      <td>0</td>\n",
       "      <td>0</td>\n",
       "      <td>0</td>\n",
       "    </tr>\n",
       "    <tr>\n",
       "      <th>3</th>\n",
       "      <td>0</td>\n",
       "      <td>0</td>\n",
       "      <td>0</td>\n",
       "      <td>0</td>\n",
       "      <td>0</td>\n",
       "      <td>0</td>\n",
       "      <td>0</td>\n",
       "      <td>0</td>\n",
       "      <td>0</td>\n",
       "      <td>0</td>\n",
       "      <td>...</td>\n",
       "      <td>0</td>\n",
       "      <td>0</td>\n",
       "      <td>0</td>\n",
       "      <td>0</td>\n",
       "      <td>0</td>\n",
       "      <td>0</td>\n",
       "      <td>0</td>\n",
       "      <td>0</td>\n",
       "      <td>0</td>\n",
       "      <td>0</td>\n",
       "    </tr>\n",
       "    <tr>\n",
       "      <th>4</th>\n",
       "      <td>0</td>\n",
       "      <td>0</td>\n",
       "      <td>0</td>\n",
       "      <td>0</td>\n",
       "      <td>0</td>\n",
       "      <td>0</td>\n",
       "      <td>0</td>\n",
       "      <td>0</td>\n",
       "      <td>0</td>\n",
       "      <td>0</td>\n",
       "      <td>...</td>\n",
       "      <td>0</td>\n",
       "      <td>0</td>\n",
       "      <td>0</td>\n",
       "      <td>0</td>\n",
       "      <td>0</td>\n",
       "      <td>0</td>\n",
       "      <td>0</td>\n",
       "      <td>0</td>\n",
       "      <td>0</td>\n",
       "      <td>0</td>\n",
       "    </tr>\n",
       "  </tbody>\n",
       "</table>\n",
       "<p>5 rows × 784 columns</p>\n",
       "</div>"
      ],
      "text/plain": [
       "   pixel0  pixel1  pixel2  pixel3  pixel4  pixel5  pixel6  pixel7  pixel8  \\\n",
       "0       0       0       0       0       0       0       0       0       0   \n",
       "1       0       0       0       0       0       0       0       0       0   \n",
       "2       0       0       0       0       0       0       0       0       0   \n",
       "3       0       0       0       0       0       0       0       0       0   \n",
       "4       0       0       0       0       0       0       0       0       0   \n",
       "\n",
       "   pixel9  ...  pixel774  pixel775  pixel776  pixel777  pixel778  pixel779  \\\n",
       "0       0  ...         0         0         0         0         0         0   \n",
       "1       0  ...         0         0         0         0         0         0   \n",
       "2       0  ...         0         0         0         0         0         0   \n",
       "3       0  ...         0         0         0         0         0         0   \n",
       "4       0  ...         0         0         0         0         0         0   \n",
       "\n",
       "   pixel780  pixel781  pixel782  pixel783  \n",
       "0         0         0         0         0  \n",
       "1         0         0         0         0  \n",
       "2         0         0         0         0  \n",
       "3         0         0         0         0  \n",
       "4         0         0         0         0  \n",
       "\n",
       "[5 rows x 784 columns]"
      ]
     },
     "execution_count": 5,
     "metadata": {},
     "output_type": "execute_result"
    }
   ],
   "source": [
    "test_df.head(5)"
   ]
  },
  {
   "cell_type": "code",
   "execution_count": 6,
   "metadata": {
    "execution": {
     "iopub.execute_input": "2020-08-22T20:33:03.018127Z",
     "iopub.status.busy": "2020-08-22T20:33:03.017363Z",
     "iopub.status.idle": "2020-08-22T20:33:03.021633Z",
     "shell.execute_reply": "2020-08-22T20:33:03.022113Z"
    },
    "papermill": {
     "duration": 0.016705,
     "end_time": "2020-08-22T20:33:03.022237",
     "exception": false,
     "start_time": "2020-08-22T20:33:03.005532",
     "status": "completed"
    },
    "tags": []
   },
   "outputs": [
    {
     "name": "stdout",
     "output_type": "stream",
     "text": [
      "(42000, 785)\n"
     ]
    }
   ],
   "source": [
    "print(train_df.shape)"
   ]
  },
  {
   "cell_type": "code",
   "execution_count": 7,
   "metadata": {
    "execution": {
     "iopub.execute_input": "2020-08-22T20:33:03.043356Z",
     "iopub.status.busy": "2020-08-22T20:33:03.042570Z",
     "iopub.status.idle": "2020-08-22T20:33:03.046776Z",
     "shell.execute_reply": "2020-08-22T20:33:03.047389Z"
    },
    "papermill": {
     "duration": 0.016931,
     "end_time": "2020-08-22T20:33:03.047558",
     "exception": false,
     "start_time": "2020-08-22T20:33:03.030627",
     "status": "completed"
    },
    "tags": []
   },
   "outputs": [
    {
     "name": "stdout",
     "output_type": "stream",
     "text": [
      "(28000, 784)\n"
     ]
    }
   ],
   "source": [
    "print(test_df.shape)"
   ]
  },
  {
   "cell_type": "code",
   "execution_count": 8,
   "metadata": {
    "execution": {
     "iopub.execute_input": "2020-08-22T20:33:03.154609Z",
     "iopub.status.busy": "2020-08-22T20:33:03.151795Z",
     "iopub.status.idle": "2020-08-22T20:33:03.490894Z",
     "shell.execute_reply": "2020-08-22T20:33:03.490374Z"
    },
    "papermill": {
     "duration": 0.43462,
     "end_time": "2020-08-22T20:33:03.491012",
     "exception": false,
     "start_time": "2020-08-22T20:33:03.056392",
     "status": "completed"
    },
    "tags": []
   },
   "outputs": [
    {
     "name": "stdout",
     "output_type": "stream",
     "text": [
      "AxesImage(54,36;334.8x217.44)\n",
      "[1. 0. 0. 0. 0. 0. 0. 0. 0. 0.]\n"
     ]
    },
    {
     "data": {
      "image/png": "[encoded data removed]",
      "text/plain": [
       "<Figure size 432x288 with 1 Axes>"
      ]
     },
     "metadata": {
      "needs_background": "light"
     },
     "output_type": "display_data"
    }
   ],
   "source": [
    "X = train_df.drop('label',axis=1)\n",
    "y = train_df['label']\n",
    "X = X.values.reshape(-1,28,28,1)\n",
    "X = X/255\n",
    "y = to_categorical(y)\n",
    "print(plt.imshow(X[2][:,:,0]))\n",
    "print(str(y[1]))"
   ]
  },
  {
   "cell_type": "markdown",
   "execution_count": null,
   "metadata": {
    "papermill": {
     "duration": 0.009875,
     "end_time": "2020-08-22T20:33:03.511039",
     "exception": false,
     "start_time": "2020-08-22T20:33:03.501164",
     "status": "completed"
    },
    "tags": []
   },
   "source": [
    "**Spliting into train and test set**"
   ]
  },
  {
   "cell_type": "code",
   "execution_count": 9,
   "metadata": {
    "execution": {
     "iopub.execute_input": "2020-08-22T20:33:03.537053Z",
     "iopub.status.busy": "2020-08-22T20:33:03.535739Z",
     "iopub.status.idle": "2020-08-22T20:33:03.912662Z",
     "shell.execute_reply": "2020-08-22T20:33:03.912093Z"
    },
    "papermill": {
     "duration": 0.392687,
     "end_time": "2020-08-22T20:33:03.912771",
     "exception": false,
     "start_time": "2020-08-22T20:33:03.520084",
     "status": "completed"
    },
    "tags": []
   },
   "outputs": [],
   "source": [
    "X_train,X_test,y_train,y_test = train_test_split(X,y,test_size=0.3,random_state=123)"
   ]
  },
  {
   "cell_type": "code",
   "execution_count": 10,
   "metadata": {
    "execution": {
     "iopub.execute_input": "2020-08-22T20:33:03.937287Z",
     "iopub.status.busy": "2020-08-22T20:33:03.935499Z",
     "iopub.status.idle": "2020-08-22T20:33:03.937964Z",
     "shell.execute_reply": "2020-08-22T20:33:03.938432Z"
    },
    "papermill": {
     "duration": 0.016803,
     "end_time": "2020-08-22T20:33:03.938557",
     "exception": false,
     "start_time": "2020-08-22T20:33:03.921754",
     "status": "completed"
    },
    "tags": []
   },
   "outputs": [],
   "source": [
    "datagen = ImageDataGenerator(zoom_range = 0.1, width_shift_range = 0.1, height_shift_range = 0.1, rotation_range = 10) "
   ]
  },
  {
   "cell_type": "code",
   "execution_count": 11,
   "metadata": {
    "execution": {
     "iopub.execute_input": "2020-08-22T20:33:03.960166Z",
     "iopub.status.busy": "2020-08-22T20:33:03.959543Z",
     "iopub.status.idle": "2020-08-22T20:33:03.978039Z",
     "shell.execute_reply": "2020-08-22T20:33:03.977488Z"
    },
    "papermill": {
     "duration": 0.030849,
     "end_time": "2020-08-22T20:33:03.978193",
     "exception": false,
     "start_time": "2020-08-22T20:33:03.947344",
     "status": "completed"
    },
    "tags": []
   },
   "outputs": [],
   "source": [
    "model = Sequential()"
   ]
  },
  {
   "cell_type": "markdown",
   "execution_count": null,
   "metadata": {
    "papermill": {
     "duration": 0.0088,
     "end_time": "2020-08-22T20:33:03.996049",
     "exception": false,
     "start_time": "2020-08-22T20:33:03.987249",
     "status": "completed"
    },
    "tags": []
   },
   "source": [
    "**Building Model**"
   ]
  },
  {
   "cell_type": "code",
   "execution_count": 12,
   "metadata": {
    "execution": {
     "iopub.execute_input": "2020-08-22T20:33:04.033552Z",
     "iopub.status.busy": "2020-08-22T20:33:04.032564Z",
     "iopub.status.idle": "2020-08-22T20:33:07.820847Z",
     "shell.execute_reply": "2020-08-22T20:33:07.821821Z"
    },
    "papermill": {
     "duration": 3.817227,
     "end_time": "2020-08-22T20:33:07.822004",
     "exception": false,
     "start_time": "2020-08-22T20:33:04.004777",
     "status": "completed"
    },
    "tags": []
   },
   "outputs": [],
   "source": [
    "model = Sequential()\n",
    "model.add(Conv2D(filters = 32, kernel_size = (3, 3), activation = 'relu', input_shape = (28, 28, 1)))\n",
    "model.add(BatchNormalization())\n",
    "model.add(Conv2D(filters = 32, kernel_size = (3, 3), activation = 'relu'))\n",
    "model.add(BatchNormalization())\n",
    "model.add(Conv2D(filters = 32, kernel_size = (5, 5), activation = 'relu'))\n",
    "model.add(BatchNormalization())\n",
    "model.add(MaxPool2D(strides = (2,2)))\n",
    "model.add(Dropout(0.25))\n",
    "\n",
    "model.add(Conv2D(filters = 64, kernel_size = (3, 3), activation = 'relu'))\n",
    "model.add(BatchNormalization())\n",
    "model.add(Conv2D(filters = 64, kernel_size = (3, 3), activation = 'relu'))\n",
    "model.add(BatchNormalization())\n",
    "model.add(Conv2D(filters = 64, kernel_size = (5, 5), activation = 'relu'))\n",
    "model.add(BatchNormalization())\n",
    "model.add(MaxPool2D(strides = (2,2)))\n",
    "model.add(Dropout(0.25))\n",
    "\n",
    "\n",
    "model.add(Flatten())\n",
    "model.add(Dense(512, activation = 'relu'))\n",
    "model.add(Dropout(0.5))\n",
    "model.add(Dense(1024, activation = 'relu'))\n",
    "model.add(Dropout(0.5))\n",
    "model.add(Dense(10, activation = 'softmax'))"
   ]
  },
  {
   "cell_type": "markdown",
   "execution_count": null,
   "metadata": {
    "papermill": {
     "duration": 0.008841,
     "end_time": "2020-08-22T20:33:07.840032",
     "exception": false,
     "start_time": "2020-08-22T20:33:07.831191",
     "status": "completed"
    },
    "tags": []
   },
   "source": [
    "**Compiling Model**"
   ]
  },
  {
   "cell_type": "code",
   "execution_count": 13,
   "metadata": {
    "execution": {
     "iopub.execute_input": "2020-08-22T20:33:07.869165Z",
     "iopub.status.busy": "2020-08-22T20:33:07.868532Z",
     "iopub.status.idle": "2020-08-22T20:33:07.876488Z",
     "shell.execute_reply": "2020-08-22T20:33:07.876017Z"
    },
    "papermill": {
     "duration": 0.027823,
     "end_time": "2020-08-22T20:33:07.876599",
     "exception": false,
     "start_time": "2020-08-22T20:33:07.848776",
     "status": "completed"
    },
    "tags": []
   },
   "outputs": [],
   "source": [
    "model.compile(optimizer='adam',metrics=['accuracy'],loss='categorical_crossentropy')"
   ]
  },
  {
   "cell_type": "markdown",
   "execution_count": null,
   "metadata": {
    "papermill": {
     "duration": 0.008841,
     "end_time": "2020-08-22T20:33:07.894351",
     "exception": false,
     "start_time": "2020-08-22T20:33:07.885510",
     "status": "completed"
    },
    "tags": []
   },
   "source": [
    "**Reducing Learning Rate**"
   ]
  },
  {
   "cell_type": "code",
   "execution_count": 14,
   "metadata": {
    "execution": {
     "iopub.execute_input": "2020-08-22T20:33:07.918438Z",
     "iopub.status.busy": "2020-08-22T20:33:07.916683Z",
     "iopub.status.idle": "2020-08-22T20:33:07.919143Z",
     "shell.execute_reply": "2020-08-22T20:33:07.919614Z"
    },
    "papermill": {
     "duration": 0.016506,
     "end_time": "2020-08-22T20:33:07.919736",
     "exception": false,
     "start_time": "2020-08-22T20:33:07.903230",
     "status": "completed"
    },
    "tags": []
   },
   "outputs": [],
   "source": [
    "reduction_lr = ReduceLROnPlateau(monitor='val_accuracy',patience=2, verbose=1, factor=0.2, min_lr=0.00001)"
   ]
  },
  {
   "cell_type": "markdown",
   "execution_count": null,
   "metadata": {
    "papermill": {
     "duration": 0.010157,
     "end_time": "2020-08-22T20:33:07.939598",
     "exception": false,
     "start_time": "2020-08-22T20:33:07.929441",
     "status": "completed"
    },
    "tags": []
   },
   "source": [
    "**Training a Model**"
   ]
  },
  {
   "cell_type": "code",
   "execution_count": 15,
   "metadata": {
    "execution": {
     "iopub.execute_input": "2020-08-22T20:33:07.964307Z",
     "iopub.status.busy": "2020-08-22T20:33:07.963217Z",
     "iopub.status.idle": "2020-08-22T20:37:27.607557Z",
     "shell.execute_reply": "2020-08-22T20:37:27.606931Z"
    },
    "papermill": {
     "duration": 259.658687,
     "end_time": "2020-08-22T20:37:27.607675",
     "exception": false,
     "start_time": "2020-08-22T20:33:07.948988",
     "status": "completed"
    },
    "tags": []
   },
   "outputs": [
    {
     "name": "stdout",
     "output_type": "stream",
     "text": [
      "Epoch 1/20\n",
      "919/919 [==============================] - 13s 14ms/step - loss: 0.4438 - accuracy: 0.8610 - val_loss: 0.0842 - val_accuracy: 0.9755 - lr: 0.0010\n",
      "Epoch 2/20\n",
      "919/919 [==============================] - 13s 14ms/step - loss: 0.1674 - accuracy: 0.9534 - val_loss: 0.0596 - val_accuracy: 0.9835 - lr: 0.0010\n",
      "Epoch 3/20\n",
      "919/919 [==============================] - 13s 14ms/step - loss: 0.1409 - accuracy: 0.9612 - val_loss: 0.0441 - val_accuracy: 0.9883 - lr: 0.0010\n",
      "Epoch 4/20\n",
      "919/919 [==============================] - 14s 15ms/step - loss: 0.1181 - accuracy: 0.9674 - val_loss: 0.0343 - val_accuracy: 0.9903 - lr: 0.0010\n",
      "Epoch 5/20\n",
      "919/919 [==============================] - 12s 13ms/step - loss: 0.1134 - accuracy: 0.9697 - val_loss: 0.0410 - val_accuracy: 0.9890 - lr: 0.0010\n",
      "Epoch 6/20\n",
      "915/919 [============================>.] - ETA: 0s - loss: 0.1007 - accuracy: 0.9734\n",
      "Epoch 00006: ReduceLROnPlateau reducing learning rate to 0.00020000000949949026.\n",
      "919/919 [==============================] - 12s 13ms/step - loss: 0.1007 - accuracy: 0.9734 - val_loss: 0.0543 - val_accuracy: 0.9853 - lr: 0.0010\n",
      "Epoch 7/20\n",
      "919/919 [==============================] - 13s 14ms/step - loss: 0.0632 - accuracy: 0.9829 - val_loss: 0.0234 - val_accuracy: 0.9942 - lr: 2.0000e-04\n",
      "Epoch 8/20\n",
      "919/919 [==============================] - 13s 14ms/step - loss: 0.0541 - accuracy: 0.9853 - val_loss: 0.0192 - val_accuracy: 0.9948 - lr: 2.0000e-04\n",
      "Epoch 9/20\n",
      "919/919 [==============================] - 14s 15ms/step - loss: 0.0494 - accuracy: 0.9866 - val_loss: 0.0186 - val_accuracy: 0.9951 - lr: 2.0000e-04\n",
      "Epoch 10/20\n",
      "919/919 [==============================] - 12s 14ms/step - loss: 0.0442 - accuracy: 0.9874 - val_loss: 0.0178 - val_accuracy: 0.9954 - lr: 2.0000e-04\n",
      "Epoch 11/20\n",
      "919/919 [==============================] - 12s 13ms/step - loss: 0.0446 - accuracy: 0.9881 - val_loss: 0.0170 - val_accuracy: 0.9958 - lr: 2.0000e-04\n",
      "Epoch 12/20\n",
      "919/919 [==============================] - 12s 14ms/step - loss: 0.0418 - accuracy: 0.9885 - val_loss: 0.0179 - val_accuracy: 0.9956 - lr: 2.0000e-04\n",
      "Epoch 13/20\n",
      "919/919 [==============================] - ETA: 0s - loss: 0.0390 - accuracy: 0.9897\n",
      "Epoch 00013: ReduceLROnPlateau reducing learning rate to 4.0000001899898055e-05.\n",
      "919/919 [==============================] - 13s 14ms/step - loss: 0.0390 - accuracy: 0.9897 - val_loss: 0.0192 - val_accuracy: 0.9949 - lr: 2.0000e-04\n",
      "Epoch 14/20\n",
      "919/919 [==============================] - 13s 14ms/step - loss: 0.0354 - accuracy: 0.9909 - val_loss: 0.0171 - val_accuracy: 0.9959 - lr: 4.0000e-05\n",
      "Epoch 15/20\n",
      "919/919 [==============================] - 13s 14ms/step - loss: 0.0329 - accuracy: 0.9910 - val_loss: 0.0150 - val_accuracy: 0.9964 - lr: 4.0000e-05\n",
      "Epoch 16/20\n",
      "919/919 [==============================] - 12s 13ms/step - loss: 0.0305 - accuracy: 0.9913 - val_loss: 0.0158 - val_accuracy: 0.9961 - lr: 4.0000e-05\n",
      "Epoch 17/20\n",
      "919/919 [==============================] - ETA: 0s - loss: 0.0328 - accuracy: 0.9910\n",
      "Epoch 00017: ReduceLROnPlateau reducing learning rate to 1e-05.\n",
      "919/919 [==============================] - 13s 14ms/step - loss: 0.0328 - accuracy: 0.9910 - val_loss: 0.0149 - val_accuracy: 0.9961 - lr: 4.0000e-05\n",
      "Epoch 18/20\n",
      "919/919 [==============================] - 13s 14ms/step - loss: 0.0272 - accuracy: 0.9919 - val_loss: 0.0153 - val_accuracy: 0.9962 - lr: 1.0000e-05\n",
      "Epoch 19/20\n",
      "919/919 [==============================] - 13s 14ms/step - loss: 0.0299 - accuracy: 0.9916 - val_loss: 0.0147 - val_accuracy: 0.9962 - lr: 1.0000e-05\n",
      "Epoch 20/20\n",
      "919/919 [==============================] - 12s 13ms/step - loss: 0.0272 - accuracy: 0.9918 - val_loss: 0.0151 - val_accuracy: 0.9962 - lr: 1.0000e-05\n"
     ]
    }
   ],
   "source": [
    "hist = model.fit_generator(datagen.flow(X_train,y_train,batch_size=32),epochs=20,validation_data = (X_test,y_test),callbacks=[reduction_lr])"
   ]
  },
  {
   "cell_type": "code",
   "execution_count": 16,
   "metadata": {
    "execution": {
     "iopub.execute_input": "2020-08-22T20:37:28.070582Z",
     "iopub.status.busy": "2020-08-22T20:37:28.069798Z",
     "iopub.status.idle": "2020-08-22T20:37:28.405733Z",
     "shell.execute_reply": "2020-08-22T20:37:28.405225Z"
    },
    "papermill": {
     "duration": 0.571346,
     "end_time": "2020-08-22T20:37:28.405834",
     "exception": false,
     "start_time": "2020-08-22T20:37:27.834488",
     "status": "completed"
    },
    "tags": []
   },
   "outputs": [
    {
     "data": {
      "text/plain": [
       "<matplotlib.axes._subplots.AxesSubplot at 0x7f98507ac1d0>"
      ]
     },
     "execution_count": 16,
     "metadata": {},
     "output_type": "execute_result"
    },
    {
     "data": {
      "image/png": "[encoded data removed]",
      "text/plain": [
       "<Figure size 432x288 with 1 Axes>"
      ]
     },
     "metadata": {
      "needs_background": "light"
     },
     "output_type": "display_data"
    },
    {
     "data": {
      "image/png": "[encoded data removed]",
      "text/plain": [
       "<Figure size 432x288 with 1 Axes>"
      ]
     },
     "metadata": {
      "needs_background": "light"
     },
     "output_type": "display_data"
    }
   ],
   "source": [
    "loss = pd.DataFrame(model.history.history)\n",
    "loss[['loss', 'val_loss']].plot()\n",
    "loss[['accuracy', 'val_accuracy']].plot()"
   ]
  },
  {
   "cell_type": "code",
   "execution_count": 17,
   "metadata": {
    "execution": {
     "iopub.execute_input": "2020-08-22T20:37:28.901154Z",
     "iopub.status.busy": "2020-08-22T20:37:28.900045Z",
     "iopub.status.idle": "2020-08-22T20:37:29.810104Z",
     "shell.execute_reply": "2020-08-22T20:37:29.809574Z"
    },
    "papermill": {
     "duration": 1.175,
     "end_time": "2020-08-22T20:37:29.810220",
     "exception": false,
     "start_time": "2020-08-22T20:37:28.635220",
     "status": "completed"
    },
    "tags": []
   },
   "outputs": [
    {
     "name": "stdout",
     "output_type": "stream",
     "text": [
      "Final loss: 0.0151, final accuracy: 0.9962\n"
     ]
    }
   ],
   "source": [
    "final_loss, final_acc = model.evaluate(X_test, y_test, verbose=0)\n",
    "print(\"Final loss: {0:.4f}, final accuracy: {1:.4f}\".format(final_loss, final_acc))"
   ]
  },
  {
   "cell_type": "markdown",
   "execution_count": null,
   "metadata": {
    "papermill": {
     "duration": 0.31651,
     "end_time": "2020-08-22T20:37:30.483825",
     "exception": false,
     "start_time": "2020-08-22T20:37:30.167315",
     "status": "completed"
    },
    "tags": []
   },
   "source": [
    "**Testing a Model**"
   ]
  },
  {
   "cell_type": "code",
   "execution_count": 18,
   "metadata": {
    "execution": {
     "iopub.execute_input": "2020-08-22T20:37:30.937064Z",
     "iopub.status.busy": "2020-08-22T20:37:30.935991Z",
     "iopub.status.idle": "2020-08-22T20:37:31.932157Z",
     "shell.execute_reply": "2020-08-22T20:37:31.931616Z"
    },
    "papermill": {
     "duration": 1.224239,
     "end_time": "2020-08-22T20:37:31.932272",
     "exception": false,
     "start_time": "2020-08-22T20:37:30.708033",
     "status": "completed"
    },
    "tags": []
   },
   "outputs": [
    {
     "data": {
      "text/plain": [
       "0        2\n",
       "1        0\n",
       "2        9\n",
       "3        0\n",
       "4        3\n",
       "        ..\n",
       "27995    9\n",
       "27996    7\n",
       "27997    3\n",
       "27998    9\n",
       "27999    2\n",
       "Name: Label, Length: 28000, dtype: int64"
      ]
     },
     "execution_count": 18,
     "metadata": {},
     "output_type": "execute_result"
    }
   ],
   "source": [
    "test_df = test_df.values.reshape(-1, 28, 28, 1) / 255\n",
    "y_pred = model.predict(test_df, batch_size = 64)\n",
    "\n",
    "y_pred = np.argmax(y_pred,axis = 1)\n",
    "y_pred = pd.Series(y_pred,name=\"Label\")\n",
    "y_pred"
   ]
  },
  {
   "cell_type": "markdown",
   "execution_count": null,
   "metadata": {
    "papermill": {
     "duration": 0.256925,
     "end_time": "2020-08-22T20:37:32.413458",
     "exception": false,
     "start_time": "2020-08-22T20:37:32.156533",
     "status": "completed"
    },
    "tags": []
   },
   "source": [
    "**Submission**"
   ]
  },
  {
   "cell_type": "code",
   "execution_count": 19,
   "metadata": {
    "execution": {
     "iopub.execute_input": "2020-08-22T20:37:32.875478Z",
     "iopub.status.busy": "2020-08-22T20:37:32.874670Z",
     "iopub.status.idle": "2020-08-22T20:37:32.994073Z",
     "shell.execute_reply": "2020-08-22T20:37:32.993507Z"
    },
    "papermill": {
     "duration": 0.350544,
     "end_time": "2020-08-22T20:37:32.994195",
     "exception": false,
     "start_time": "2020-08-22T20:37:32.643651",
     "status": "completed"
    },
    "tags": []
   },
   "outputs": [],
   "source": [
    "submission = pd.concat([pd.Series(range(1,28001),name = \"ImageId\"),y_pred],axis = 1)\n",
    "submission.to_csv(\"submission.csv\",index=False)"
   ]
  },
  {
   "cell_type": "markdown",
   "execution_count": null,
   "metadata": {
    "papermill": {
     "duration": 0.224922,
     "end_time": "2020-08-22T20:37:33.441392",
     "exception": false,
     "start_time": "2020-08-22T20:37:33.216470",
     "status": "completed"
    },
    "tags": []
   },
   "source": [
    "**If You find This is useful,please UPVOTE.**"
   ]
  },
  {
   "cell_type": "code",
   "execution_count": null,
   "metadata": {
    "papermill": {
     "duration": 0.254685,
     "end_time": "2020-08-22T20:37:33.924505",
     "exception": false,
     "start_time": "2020-08-22T20:37:33.669820",
     "status": "completed"
    },
    "tags": []
   },
   "outputs": [],
   "source": []
  }
 ],
 "metadata": {
  "kernelspec": {
   "display_name": "Python 3",
   "language": "python",
   "name": "python3"
  },
  "language_info": {
   "codemirror_mode": {
    "name": "ipython",
    "version": 3
   },
   "file_extension": ".py",
   "mimetype": "text/x-python",
   "name": "python",
   "nbconvert_exporter": "python",
   "pygments_lexer": "ipython3",
   "version": "3.7.6"
  },
  "papermill": {
   "duration": 289.045064,
   "end_time": "2020-08-22T20:37:35.475718",
   "environment_variables": {},
   "exception": null,
   "input_path": "__notebook__.ipynb",
   "output_path": "__notebook__.ipynb",
   "parameters": {},
   "start_time": "2020-08-22T20:32:46.430654",
   "version": "2.1.0"
  }
 },
 "nbformat": 4,
 "nbformat_minor": 4
}
